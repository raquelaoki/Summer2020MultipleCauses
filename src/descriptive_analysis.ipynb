{
  "nbformat": 4,
  "nbformat_minor": 0,
  "metadata": {
    "colab": {
      "name": "descriptive_analysis.ipynb",
      "provenance": [],
      "collapsed_sections": [],
      "toc_visible": true
    },
    "kernelspec": {
      "name": "python3",
      "display_name": "Python 3"
    }
  },
  "cells": [
    {
      "cell_type": "markdown",
      "metadata": {
        "id": "YZAAuLb0UH58"
      },
      "source": [
        "# Preparing the enviroment and mounting data"
      ]
    },
    {
      "cell_type": "code",
      "metadata": {
        "colab": {
          "base_uri": "https://localhost:8080/"
        },
        "id": "OFIKqpsjP8jD",
        "outputId": "bd3a50fb-23ae-4aee-e63e-4983cc729a37"
      },
      "source": [
        "# Import PyDrive and associated libraries.\n",
        "# This only needs to be done once per notebook.\n",
        "#from google.colab import drive\n",
        "#drive.mount(\"/content/drive/\")\n",
        "#cd drive/My Drive/SFU/Project4-Spring2021\n",
        "!ls"
      ],
      "execution_count": 1,
      "outputs": [
        {
          "output_type": "stream",
          "text": [
            "clinical_01Mar2021.xlsx        sample_data\t\t snpsback_variants.npy\n",
            "data_preprossing_functions.py  samples.npy\t\t x_clinical.npy\n",
            "known_snps_fullname.txt        samples_order.txt\t x_colnames.npy\n",
            "known_snps.txt\t\t       snpsback_cadd.npy\t x_snps.npy\n",
            "__pycache__\t\t       snpsback_gt_dominant.npz  y.npy\n"
          ],
          "name": "stdout"
        }
      ]
    },
    {
      "cell_type": "markdown",
      "metadata": {
        "id": "MN0J0sQlvaLt"
      },
      "source": [
        "# BCCH Data Analysis \n",
        "\n",
        "## 1. Data Pre-processing \n",
        "\n",
        "### Reading the files \n",
        "\n"
      ]
    },
    {
      "cell_type": "code",
      "metadata": {
        "id": "O4DyN15i-SP-"
      },
      "source": [
        "# reading snps file\n",
        "#libraries\n",
        "import pandas as pd\n",
        "import numpy as np \n",
        "from scipy import sparse\n"
      ],
      "execution_count": 2,
      "outputs": []
    },
    {
      "cell_type": "code",
      "metadata": {
        "colab": {
          "base_uri": "https://localhost:8080/"
        },
        "id": "KzOApQiRsZw8",
        "outputId": "911b8ac5-c3ea-400e-ce77-5076e5e65161"
      },
      "source": [
        "preprocessing = False\n",
        "path = '/content/'\n",
        "if preprocessing: \n",
        "  print('Starting pre-processing:')\n",
        "  import data_preprossing_functions as dpf\n",
        "  y, x_clinical, x_snps, x_colnames = dpf.run_preprocessing(path, True)\n",
        "  print('Done!')\n",
        "  print('Shapes:',len(y), x_clinical.shape, x_snps.shape, len(x_colnames))\n",
        "  #318 (318, 42) (318, 16641) 16641\n",
        "else: \n",
        "  print('Reading files')\n",
        "  y, x_clinical, x_snps, x_colnames = np.load('y.npy'), np.load('x_clinical.npy',allow_pickle =True), np.load('x_snps.npy',allow_pickle =True), np.load('x_colnames.npy',allow_pickle =True)\n",
        "  print('Done!')\n",
        "  print('Shapes:',len(y), x_clinical.shape, x_snps.shape, len(x_colnames))\n",
        " "
      ],
      "execution_count": 7,
      "outputs": [
        {
          "output_type": "stream",
          "text": [
            "Reading files\n",
            "/Done!\n",
            "Shapes: 318 (318, 42) (318, 16641) 16641\n"
          ],
          "name": "stdout"
        }
      ]
    },
    {
      "cell_type": "code",
      "metadata": {
        "id": "D-ZsJdOispRn"
      },
      "source": [
        ""
      ],
      "execution_count": null,
      "outputs": []
    },
    {
      "cell_type": "code",
      "metadata": {
        "id": "yrPjsO5Is4Vi"
      },
      "source": [
        ""
      ],
      "execution_count": null,
      "outputs": []
    },
    {
      "cell_type": "code",
      "metadata": {
        "id": "om2jrvXYucAM"
      },
      "source": [
        ""
      ],
      "execution_count": null,
      "outputs": []
    }
  ]
}