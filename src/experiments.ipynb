{
  "nbformat": 4,
  "nbformat_minor": 0,
  "metadata": {
    "colab": {
      "name": "descriptive_analysis.ipynb",
      "provenance": [],
      "collapsed_sections": [],
      "toc_visible": true
    },
    "kernelspec": {
      "name": "python3",
      "display_name": "Python 3"
    }
  },
  "cells": [
    {
      "cell_type": "markdown",
      "metadata": {
        "id": "YZAAuLb0UH58"
      },
      "source": [
        "# Preparing the enviroment and mounting data"
      ]
    },
    {
      "cell_type": "code",
      "metadata": {
        "colab": {
          "base_uri": "https://localhost:8080/"
        },
        "id": "OFIKqpsjP8jD",
        "outputId": "ff946a8a-b391-4529-827e-4099dfb5c947"
      },
      "source": [
        "# Import PyDrive and associated libraries.\n",
        "# This only needs to be done once per notebook.\n",
        "#from google.colab import drive\n",
        "#drive.mount(\"/content/drive/\")\n",
        "#cd drive/My Drive/SFU/Project4-Spring2021\n",
        "!ls"
      ],
      "execution_count": null,
      "outputs": [
        {
          "output_type": "stream",
          "text": [
            "sample_data\n"
          ],
          "name": "stdout"
        }
      ]
    },
    {
      "cell_type": "code",
      "metadata": {
        "colab": {
          "base_uri": "https://localhost:8080/"
        },
        "id": "ERRW1W9qgUSh",
        "outputId": "077b23c4-e8a8-4d15-de20-08962af3fc4f"
      },
      "source": [
        "!git clone https://github.com/JakeColtman/bartpy.git\n",
        "!git clone https://github.com/raquelaoki/CompBioAndSimulated_Datasets.git"
      ],
      "execution_count": null,
      "outputs": [
        {
          "output_type": "stream",
          "text": [
            "Cloning into 'bartpy'...\n",
            "remote: Enumerating objects: 1971, done.\u001b[K\n",
            "remote: Total 1971 (delta 0), reused 0 (delta 0), pack-reused 1971\u001b[K\n",
            "Receiving objects: 100% (1971/1971), 11.97 MiB | 14.02 MiB/s, done.\n",
            "Resolving deltas: 100% (1329/1329), done.\n",
            "Cloning into 'CompBioAndSimulated_Datasets'...\n",
            "remote: Enumerating objects: 15, done.\u001b[K\n",
            "remote: Counting objects: 100% (15/15), done.\u001b[K\n",
            "remote: Compressing objects: 100% (11/11), done.\u001b[K\n",
            "remote: Total 15 (delta 5), reused 11 (delta 4), pack-reused 0\u001b[K\n",
            "Unpacking objects: 100% (15/15), done.\n"
          ],
          "name": "stdout"
        }
      ]
    },
    {
      "cell_type": "code",
      "metadata": {
        "id": "O4DyN15i-SP-",
        "colab": {
          "base_uri": "https://localhost:8080/",
          "height": 368
        },
        "outputId": "ccb678d7-e16a-40b8-d290-090fdd01ca4b"
      },
      "source": [
        "import pandas as pd\n",
        "import numpy as np \n",
        "from scipy import sparse\n",
        "from sklearn.metrics import confusion_matrix,f1_score\n",
        "from sklearn.metrics import roc_curve,roc_auc_score\n",
        "from sklearn.model_selection import train_test_split\n",
        "from sklearn import preprocessing\n",
        "import sys\n",
        "sys.path.insert(0,'bartpy/')\n",
        "sys.path.insert(0,'CompBioAndSimulated_Datasets/')\n",
        "from bartpy.sklearnmodel import SklearnModel\n",
        "from fromBEDtoNPY import goPDX\n",
        "import matplotlib.pyplot as plt\n",
        "import seaborn as sns\n",
        "\n",
        "data_preprocessing = False\n",
        "run_learners = True"
      ],
      "execution_count": null,
      "outputs": [
        {
          "output_type": "error",
          "ename": "ModuleNotFoundError",
          "evalue": "ignored",
          "traceback": [
            "\u001b[0;31m---------------------------------------------------------------------------\u001b[0m",
            "\u001b[0;31mModuleNotFoundError\u001b[0m                       Traceback (most recent call last)",
            "\u001b[0;32m<ipython-input-1-fa7e0d081147>\u001b[0m in \u001b[0;36m<module>\u001b[0;34m()\u001b[0m\n\u001b[1;32m      9\u001b[0m \u001b[0msys\u001b[0m\u001b[0;34m.\u001b[0m\u001b[0mpath\u001b[0m\u001b[0;34m.\u001b[0m\u001b[0minsert\u001b[0m\u001b[0;34m(\u001b[0m\u001b[0;36m0\u001b[0m\u001b[0;34m,\u001b[0m\u001b[0;34m'bartpy/'\u001b[0m\u001b[0;34m)\u001b[0m\u001b[0;34m\u001b[0m\u001b[0;34m\u001b[0m\u001b[0m\n\u001b[1;32m     10\u001b[0m \u001b[0msys\u001b[0m\u001b[0;34m.\u001b[0m\u001b[0mpath\u001b[0m\u001b[0;34m.\u001b[0m\u001b[0minsert\u001b[0m\u001b[0;34m(\u001b[0m\u001b[0;36m0\u001b[0m\u001b[0;34m,\u001b[0m\u001b[0;34m'CompBioAndSimulated_Datasets/'\u001b[0m\u001b[0;34m)\u001b[0m\u001b[0;34m\u001b[0m\u001b[0;34m\u001b[0m\u001b[0m\n\u001b[0;32m---> 11\u001b[0;31m \u001b[0;32mfrom\u001b[0m \u001b[0mbartpy\u001b[0m\u001b[0;34m.\u001b[0m\u001b[0msklearnmodel\u001b[0m \u001b[0;32mimport\u001b[0m \u001b[0mSklearnModel\u001b[0m\u001b[0;34m\u001b[0m\u001b[0;34m\u001b[0m\u001b[0m\n\u001b[0m\u001b[1;32m     12\u001b[0m \u001b[0;32mfrom\u001b[0m \u001b[0mfromBEDtoNPY\u001b[0m \u001b[0;32mimport\u001b[0m \u001b[0mgoPDX\u001b[0m\u001b[0;34m\u001b[0m\u001b[0;34m\u001b[0m\u001b[0m\n\u001b[1;32m     13\u001b[0m \u001b[0;32mimport\u001b[0m \u001b[0mmatplotlib\u001b[0m\u001b[0;34m.\u001b[0m\u001b[0mpyplot\u001b[0m \u001b[0;32mas\u001b[0m \u001b[0mplt\u001b[0m\u001b[0;34m\u001b[0m\u001b[0;34m\u001b[0m\u001b[0m\n",
            "\u001b[0;31mModuleNotFoundError\u001b[0m: No module named 'bartpy'",
            "",
            "\u001b[0;31m---------------------------------------------------------------------------\u001b[0;32m\nNOTE: If your import is failing due to a missing package, you can\nmanually install dependencies using either !pip or !apt.\n\nTo view examples of installing some common dependencies, click the\n\"Open Examples\" button below.\n\u001b[0;31m---------------------------------------------------------------------------\u001b[0m\n"
          ]
        }
      ]
    },
    {
      "cell_type": "markdown",
      "metadata": {
        "id": "MN0J0sQlvaLt"
      },
      "source": [
        "# BCCH Data Analysis \n",
        "\n",
        "## Data \n",
        "There are two options: \n",
        "1. Pre-processing: require original files on the server and perform the pre-processing / filtering \n",
        "2. Load files saved on local machine \n"
      ]
    },
    {
      "cell_type": "code",
      "metadata": {
        "colab": {
          "base_uri": "https://localhost:8080/"
        },
        "id": "KzOApQiRsZw8",
        "outputId": "90fdf795-4310-4cc4-8619-9c08e9972b28"
      },
      "source": [
        "path = '/content/'\n",
        "if data_preprocessing:  \n",
        "  print('Option 1: Starting pre-processing:')\n",
        "  data = goPDX(final=False)\n",
        "  #import data_preprossing_functions as dpf\n",
        "  #y, x_clinical, x_snps, x_colnames, x_clinical_names = dpf.run_preprocessing(path, True)\n",
        "  #x_clinical = x_clinical.astype('float64')\n",
        "  #print('Done!')\n",
        "  #print('Shapes:',len(y), sum(y), x_clinical.shape, x_snps.shape, len(x_colnames), len(x_clinical_names))\n",
        "  ##318 (318, 42) (318, 16641) 16641\n",
        "else: \n",
        "  print('Option 2: Reading files')\n",
        "  data = goPDX()"
      ],
      "execution_count": null,
      "outputs": [
        {
          "output_type": "stream",
          "text": [
            "Option 2: Reading files\n",
            "Loading final form:\n",
            "Target Y:  302  items and  187  positive examples\n",
            "Clinical:  302 items and  41  columns\n",
            "SNPS:  302 items and  16195  columns\n"
          ],
          "name": "stdout"
        }
      ]
    },
    {
      "cell_type": "markdown",
      "metadata": {
        "id": "ya5jolap5a_e"
      },
      "source": [
        "Making some plots"
      ]
    },
    {
      "cell_type": "code",
      "metadata": {
        "id": "segXB_cT5Zq4"
      },
      "source": [
        "clinical = pd.DataFrame(data.x_clinical, columns = data.x_clinical_names)\n",
        "clinical = clinical.drop(['TumorType','PC1','PC2', 'PC3', 'PC4','PC5', 'PC6', 'PC7', 'PC8', 'PC9', 'PC10','Array'],1)"
      ],
      "execution_count": null,
      "outputs": []
    },
    {
      "cell_type": "code",
      "metadata": {
        "colab": {
          "base_uri": "https://localhost:8080/"
        },
        "id": "9hrkycwSL6xH",
        "outputId": "c9346851-bc11-4646-d2ac-1a90b31d1e41"
      },
      "source": [
        "from scipy.stats import chi2_contingency\n",
        "tab = confusion_matrix(data.y,clinical['Sex (1=male, 0=female)'])\n",
        "print(tab)\n",
        "chi2, p, dof, ex  = chi2_contingency(tab)\n",
        "print('P-value', p)\n",
        "if p<0.05: \n",
        "  print('We dont have enought evidence to reject null hypothesis (Values are independent)')\n",
        "else: \n",
        "  print('We have enought evidence to reject null hypothesis (values are dependent)')"
      ],
      "execution_count": null,
      "outputs": [
        {
          "output_type": "stream",
          "text": [
            "[[ 63  52]\n",
            " [ 80 107]]\n",
            "P-value 0.056167153377689495\n",
            "We have enought evidence to reject null hypothesis (values are dependent)\n"
          ],
          "name": "stdout"
        }
      ]
    },
    {
      "cell_type": "code",
      "metadata": {
        "colab": {
          "base_uri": "https://localhost:8080/",
          "height": 458
        },
        "id": "FCdpUEQYw3Se",
        "outputId": "42325778-4bc2-4271-ec09-ea4413f56d1c"
      },
      "source": [
        "clinical01 = clinical.copy()\n",
        "#clinical01['y'] = data.y\n",
        "clinical01['AgeTreatmentInitiation (Blocks)'] = pd.cut(clinical01['AgeTreatmentInitiation (years)'],bins=[0,3,6,9,12,15,18],labels=['0-3','4-6','7-9','10-12','13-15','16-18'])\n",
        "clinical0 = clinical01[data.y==0]\n",
        "clinical1 = clinical01[data.y==1]\n",
        "\n",
        "\n",
        "from matplotlib import pyplot\n",
        "plt.style.use('ggplot')\n",
        "figure(figsize=(8,5), dpi=80)\n",
        "\n",
        "\n",
        "plt.subplot(1, 2, 1)\n",
        "plt.hist([clinical0['AgeTreatmentInitiation (years)'], clinical1['AgeTreatmentInitiation (years)']]\n",
        "         ,label=['CIO Grade 0', 'CIO Grade 2, 3 or 4'], color = ['lightskyblue','coral'])\n",
        "plt.legend(loc='upper right')\n",
        "plt.xlabel('Age Treatment Initiation (years)')\n",
        "plt.ylabel('Frequency')\n",
        "\n",
        "bar0, bar1 = [],[]\n",
        "#clinical01['AgeTreatmentInitiation (Blocks)']\n",
        "blocks = ['0-3','4-6','7-9','10-12','13-15','16-18']\n",
        "for b in blocks:\n",
        "   subset = data.y[clinical01['AgeTreatmentInitiation (Blocks)']==b]\n",
        "   bar0.append(100*(len(subset)-subset.sum())/len(subset))\n",
        "   bar1.append(100*(subset.sum())/len(subset))\n",
        "\n",
        "print(bar0, bar1)\n",
        "plt.subplot(1, 2, 2)\n",
        "bar0 = bar0\n",
        "bar1 = bar1\n",
        "r = [0,1,2,3,4,5]\n",
        "barWidth = 0.85\n",
        "plt.bar(r, bar0, color='lightskyblue', edgecolor='white', width=barWidth, label=\"CIO Grade 0\")\n",
        "plt.bar(r, bar1, bottom=bar0, color='coral', edgecolor='white', width=barWidth, label=\"CIO Grade 2, 3 or 4\")\n",
        "plt.xticks(r, blocks)\n",
        "plt.xlabel(\"Age Treatment Initiation (Blocks)\")\n",
        "plt.ylabel(\"%\")\n",
        "plt.ylim(0,115)\n",
        "plt.legend(loc='upper right')\n",
        "#plt.legend(loc='upper left', bbox_to_anchor=(1,1), ncol=1)\n",
        " \n",
        "\n"
      ],
      "execution_count": null,
      "outputs": [
        {
          "output_type": "stream",
          "text": [
            "[27.17391304347826, 13.793103448275861, 24.137931034482758, 53.06122448979592, 58.8235294117647, 85.0] [72.82608695652173, 86.20689655172414, 75.86206896551724, 46.93877551020408, 41.1764705882353, 15.0]\n"
          ],
          "name": "stdout"
        },
        {
          "output_type": "stream",
          "text": [
            "/usr/local/lib/python3.7/dist-packages/numpy/core/_asarray.py:83: VisibleDeprecationWarning: Creating an ndarray from ragged nested sequences (which is a list-or-tuple of lists-or-tuples-or ndarrays with different lengths or shapes) is deprecated. If you meant to do this, you must specify 'dtype=object' when creating the ndarray\n",
            "  return array(a, dtype, copy=False, order=order)\n"
          ],
          "name": "stderr"
        },
        {
          "output_type": "execute_result",
          "data": {
            "text/plain": [
              "<matplotlib.legend.Legend at 0x7fbc38c987d0>"
            ]
          },
          "metadata": {
            "tags": []
          },
          "execution_count": 142
        },
        {
          "output_type": "display_data",
          "data": {
            "image/png": "[encoded data removed]",
            "text/plain": [
              "<Figure size 640x400 with 2 Axes>"
            ]
          },
          "metadata": {
            "tags": []
          }
        }
      ]
    },
    {
      "cell_type": "code",
      "metadata": {
        "colab": {
          "base_uri": "https://localhost:8080/",
          "height": 458
        },
        "id": "B89mlQcB4IIW",
        "outputId": "f73ec3c8-3499-414c-9a29-5a202f66ac32"
      },
      "source": [
        "figure(figsize=(8,5), dpi=80)\n",
        "\n",
        "plt.subplot(1, 2, 1)\n",
        "\n",
        "plt.hist([clinical0['CisplatinExactDuration (days)'], clinical1['CisplatinExactDuration (days)']]\n",
        "         ,label=['CIO Grade 0', 'CIO Grade 2, 3 or 4'], color = ['lightskyblue','coral'])\n",
        "plt.legend(loc='upper right')\n",
        "plt.xlabel('Cisplatin Exact Duration (days)')\n",
        "plt.ylabel('Frequency')\n",
        "\n",
        "bar0, bar1 = [],[]\n",
        "#clinical01['AgeTreatmentInitiation (Blocks)']\n",
        "blocks = list(range(0,33,3))\n",
        "print(blocks)\n",
        "array = clinical01['CisplatinExactDuration (days)']\n",
        "for b in blocks:\n",
        "   filter = [True if item == b or item==b+1 or item == b+2 else False for item in array]\n",
        "   subset = data.y[filter]\n",
        "   bar0.append(100*(len(subset)-subset.sum())/clinical0.shape[0])\n",
        "   bar1.append(100*(subset.sum())/clinical1.shape[0])\n",
        "\n",
        "plt.subplot(1, 2, 2)\n",
        "r = np.array(list(range(len(blocks))))\n",
        "barWidth = 0.4\n",
        "\n",
        "plt.bar(r, bar0, color='lightskyblue', edgecolor='white', width=barWidth, label=\"CIO Grade 0\")\n",
        "plt.bar(r+barWidth, bar1,color='coral', edgecolor='white', width=barWidth, label=\"CIO Grade 2, 3 or 4\")\n",
        "plt.xticks(r, blocks)\n",
        "plt.xlabel(\"Cisplatin Exact Duration (days)\")\n",
        "plt.ylabel(\"%\")\n",
        "plt.legend(loc='upper right')\n",
        "#plt.legend(loc='upper left', bbox_to_anchor=(1,1), ncol=1)\n"
      ],
      "execution_count": null,
      "outputs": [
        {
          "output_type": "stream",
          "text": [
            "[0, 3, 6, 9, 12, 15, 18, 21, 24, 27, 30]\n"
          ],
          "name": "stdout"
        },
        {
          "output_type": "stream",
          "text": [
            "/usr/local/lib/python3.7/dist-packages/numpy/core/_asarray.py:83: VisibleDeprecationWarning: Creating an ndarray from ragged nested sequences (which is a list-or-tuple of lists-or-tuples-or ndarrays with different lengths or shapes) is deprecated. If you meant to do this, you must specify 'dtype=object' when creating the ndarray\n",
            "  return array(a, dtype, copy=False, order=order)\n"
          ],
          "name": "stderr"
        },
        {
          "output_type": "execute_result",
          "data": {
            "text/plain": [
              "<matplotlib.legend.Legend at 0x7fbc35b14e10>"
            ]
          },
          "metadata": {
            "tags": []
          },
          "execution_count": 200
        },
        {
          "output_type": "display_data",
          "data": {
            "image/png": "[encoded data removed]",
            "text/plain": [
              "<Figure size 640x400 with 2 Axes>"
            ]
          },
          "metadata": {
            "tags": []
          }
        }
      ]
    },
    {
      "cell_type": "code",
      "metadata": {
        "colab": {
          "base_uri": "https://localhost:8080/",
          "height": 299
        },
        "id": "LrLorGhb4gmo",
        "outputId": "d43bb5fb-1e7b-4a9e-8134-e761f96092d0"
      },
      "source": [
        "b = ['0-3','4-6','7-9','10-12','13-15','16-18']\n",
        "\n",
        "plt.scatter(clinical0['CisplatinExactDuration (days)'],clinical0['CisplatinDose_cumulative (mg/m2)'],label='CIO Grade 0',color='lightskyblue')\n",
        "plt.scatter(clinical1['CisplatinExactDuration (days)'],clinical1['CisplatinDose_cumulative (mg/m2)'],label='CIO Grade 2, 3 or 4',color ='coral')\n",
        "plt.xlabel('Cisplatin Exact Duration (days)')\n",
        "plt.ylabel('Cisplatin Dose Cumulative (mg/m2)')\n",
        "plt.legend(loc='upper right')\n"
      ],
      "execution_count": null,
      "outputs": [
        {
          "output_type": "execute_result",
          "data": {
            "text/plain": [
              "<matplotlib.legend.Legend at 0x7fbc3fd017d0>"
            ]
          },
          "metadata": {
            "tags": []
          },
          "execution_count": 77
        },
        {
          "output_type": "display_data",
          "data": {
            "image/png": "[encoded data removed]",
            "text/plain": [
              "<Figure size 432x288 with 1 Axes>"
            ]
          },
          "metadata": {
            "tags": []
          }
        }
      ]
    },
    {
      "cell_type": "code",
      "metadata": {
        "id": "55Y5xKAd_g2m",
        "colab": {
          "base_uri": "https://localhost:8080/",
          "height": 303
        },
        "outputId": "ef25d677-0a1d-4993-d3a7-48287a07375d"
      },
      "source": [
        "age0 = (1/clinical0['AgeTreatmentInitiation (years)'])*100\n",
        "age1 = (1/clinical1['AgeTreatmentInitiation (years)'])*100\n",
        "plt.scatter(clinical0['CisplatinExactDuration (days)'],clinical0['CisplatinDose_cumulative (mg/m2)'],\n",
        "            label='CIO Grade 0',color='lightskyblue', s=age0,alpha=0.5)\n",
        "plt.scatter(clinical1['CisplatinExactDuration (days)'],clinical1['CisplatinDose_cumulative (mg/m2)'],\n",
        "            label='CIO Grade 2, 3 or 4',color ='coral',s=age1,alpha=0.5)\n",
        "plt.xlabel('Cisplatin Exact Duration (days)')\n",
        "plt.ylabel('Cisplatin Dose Cumulative (mg/m2)')\n",
        "plt.legend(loc='upper right')\n",
        "plt.ylim(0,1000)"
      ],
      "execution_count": null,
      "outputs": [
        {
          "output_type": "execute_result",
          "data": {
            "text/plain": [
              "(0.0, 1000.0)"
            ]
          },
          "metadata": {
            "tags": []
          },
          "execution_count": 102
        },
        {
          "output_type": "display_data",
          "data": {
            "image/png": "[encoded data removed]",
            "text/plain": [
              "<Figure size 432x288 with 1 Axes>"
            ]
          },
          "metadata": {
            "tags": []
          }
        }
      ]
    },
    {
      "cell_type": "code",
      "metadata": {
        "colab": {
          "base_uri": "https://localhost:8080/",
          "height": 459
        },
        "id": "CyKIL5hoARd-",
        "outputId": "d0f43e46-15f9-498d-cd56-16309362cdf4"
      },
      "source": [
        "from matplotlib.pyplot import figure\n",
        "\n",
        "figure(figsize=(8,5), dpi=80)\n",
        "\n",
        "clinical00 = clinical0[clinical0['Vincristine_Concomitant (1=yes,0=no)']==0]\n",
        "clinical01 = clinical0[clinical0['Vincristine_Concomitant (1=yes,0=no)']==1]\n",
        "\n",
        "clinical10 = clinical1[clinical1['Vincristine_Concomitant (1=yes,0=no)']==0]\n",
        "clinical11 = clinical1[clinical1['Vincristine_Concomitant (1=yes,0=no)']==1]\n",
        "\n",
        "plt.subplot(1, 2, 1)\n",
        "plt.hist([clinical01['CisplatinDose_cumulative (mg/m2)'], clinical11['CisplatinDose_cumulative (mg/m2)']]\n",
        "         ,label=['CIO Grade 0', 'CIO Grade 2, 3 or 4'], color = ['lightskyblue','coral'])\n",
        "plt.legend(loc='upper right')\n",
        "plt.xlabel('Cisplatin Dose cumulative (mg/m2)')\n",
        "plt.ylabel('Frequency')\n",
        "plt.title('Vincristine_Concomitant - YES')\n",
        "plt.ylim(0,50)\n",
        "plt.xlim(0,800)\n",
        "\n",
        "plt.subplot(1, 2, 2)\n",
        "plt.hist([clinical00['CisplatinDose_cumulative (mg/m2)'], clinical10['CisplatinDose_cumulative (mg/m2)']]\n",
        "         ,label=['CIO Grade 0', 'CIO Grade 2, 3 or 4'], color = ['lightskyblue','coral'])\n",
        "plt.legend(loc='upper right')\n",
        "plt.xlabel('Cisplatin Dose cumulative (mg/m2)')\n",
        "plt.ylabel('%')\n",
        "plt.title('Vincristine_Concomitant - NO')\n",
        "plt.ylim(0,50)\n",
        "plt.xlim(0,800)\n",
        "\n"
      ],
      "execution_count": null,
      "outputs": [
        {
          "output_type": "stream",
          "text": [
            "/usr/local/lib/python3.7/dist-packages/numpy/core/_asarray.py:83: VisibleDeprecationWarning: Creating an ndarray from ragged nested sequences (which is a list-or-tuple of lists-or-tuples-or ndarrays with different lengths or shapes) is deprecated. If you meant to do this, you must specify 'dtype=object' when creating the ndarray\n",
            "  return array(a, dtype, copy=False, order=order)\n"
          ],
          "name": "stderr"
        },
        {
          "output_type": "execute_result",
          "data": {
            "text/plain": [
              "(0.0, 800.0)"
            ]
          },
          "metadata": {
            "tags": []
          },
          "execution_count": 201
        },
        {
          "output_type": "display_data",
          "data": {
            "image/png": "[encoded data removed]",
            "text/plain": [
              "<Figure size 640x400 with 2 Axes>"
            ]
          },
          "metadata": {
            "tags": []
          }
        }
      ]
    },
    {
      "cell_type": "code",
      "metadata": {
        "id": "PkW-ycGE89I9",
        "colab": {
          "base_uri": "https://localhost:8080/",
          "height": 459
        },
        "outputId": "d2b596cb-aefa-40db-cba9-092202f69f06"
      },
      "source": [
        "from matplotlib.pyplot import figure\n",
        "\n",
        "figure(figsize=(8,5), dpi=80)\n",
        "\n",
        "clinical00 = clinical0[clinical0['HeadAndNeckRadiation (1=yes,0=no)']==0]\n",
        "clinical01 = clinical0[clinical0['HeadAndNeckRadiation (1=yes,0=no)']==1]\n",
        "\n",
        "clinical10 = clinical1[clinical1['HeadAndNeckRadiation (1=yes,0=no)']==0]\n",
        "clinical11 = clinical1[clinical1['HeadAndNeckRadiation (1=yes,0=no)']==1]\n",
        "\n",
        "plt.subplot(1, 2, 1)\n",
        "plt.hist([clinical01['CisplatinExactDuration (days)'], clinical11['CisplatinExactDuration (days)']]\n",
        "         ,label=['CIO Grade 0', 'CIO Grade 2, 3 or 4'], color = ['lightskyblue','coral'])\n",
        "plt.legend(loc='upper right')\n",
        "plt.xlabel('Cisplatin Exact Duration (days)')\n",
        "plt.ylabel('Frequency')\n",
        "plt.title('Head And Neck Radiation - YES')\n",
        "\n",
        "plt.subplot(1, 2, 2)\n",
        "plt.hist([clinical00['CisplatinExactDuration (days)'], clinical10['CisplatinExactDuration (days)']]\n",
        "         ,label=['CIO Grade 0', 'CIO Grade 2, 3 or 4'], color = ['lightskyblue','coral'])\n",
        "plt.legend(loc='upper right')\n",
        "plt.xlabel('Cisplatin Exact Duration (days)')\n",
        "plt.ylabel('Frequency')\n",
        "plt.title('Head And Neck Radiation - NO')\n",
        "\n"
      ],
      "execution_count": null,
      "outputs": [
        {
          "output_type": "stream",
          "text": [
            "/usr/local/lib/python3.7/dist-packages/numpy/core/_asarray.py:83: VisibleDeprecationWarning: Creating an ndarray from ragged nested sequences (which is a list-or-tuple of lists-or-tuples-or ndarrays with different lengths or shapes) is deprecated. If you meant to do this, you must specify 'dtype=object' when creating the ndarray\n",
            "  return array(a, dtype, copy=False, order=order)\n"
          ],
          "name": "stderr"
        },
        {
          "output_type": "execute_result",
          "data": {
            "text/plain": [
              "Text(0.5, 1.0, 'Head And Neck Radiation - NO')"
            ]
          },
          "metadata": {
            "tags": []
          },
          "execution_count": 129
        },
        {
          "output_type": "display_data",
          "data": {
            "image/png": "[encoded data removed]",
            "text/plain": [
              "<Figure size 640x400 with 2 Axes>"
            ]
          },
          "metadata": {
            "tags": []
          }
        }
      ]
    },
    {
      "cell_type": "code",
      "metadata": {
        "colab": {
          "base_uri": "https://localhost:8080/",
          "height": 257
        },
        "id": "tb7SrVeG6deB",
        "outputId": "c5dd742c-8b1a-4e51-d4da-8e94949f2eb0"
      },
      "source": [
        "#corrMatrix.shape\n",
        "#sns.color_palette(\"vlag\", as_cmap=True)\n",
        "# color map\n",
        "corrMatrix = clinical.corr()\n",
        "mask = np.triu(np.ones_like(range(corrMatrix.shape[0]), dtype=np.bool))\n",
        "mask = mask[1:, :-1]\n",
        "corr = corrMatrix.iloc[1:,:-1].copy()\n",
        "cmap = sns.diverging_palette(0, 230, 90, 60, as_cmap=True)\n",
        "sns.heatmap(corr, mask=mask, xticklabels=False, yticklabels=False, cmap=cmap, square = True, center=0)\n",
        "plt.show()\n"
      ],
      "execution_count": null,
      "outputs": [
        {
          "output_type": "display_data",
          "data": {
            "image/png": "[encoded data removed]",
            "text/plain": [
              "<Figure size 432x288 with 2 Axes>"
            ]
          },
          "metadata": {
            "tags": [],
            "needs_background": "light"
          }
        }
      ]
    },
    {
      "cell_type": "code",
      "metadata": {
        "id": "Pqw4S4cJAqjM"
      },
      "source": [
        "corr = corrMatrix.iloc[1:,:-1].copy()\n",
        "value = corr.columns\n",
        "corr.reset_index(inplace=True,drop=False)\n",
        "melted = pd.melt(corr,id_vars=['index'], value_vars = value)\n",
        "a = melted[melted['value']>0.3]\n",
        "b = melted[melted['value']<-0.3]\n",
        "melted_ = pd.concat([a,b])\n",
        "melted_ = melted_[melted_['index']!=melted_['variable']]\n",
        "melted_['abs'] = np.abs(melted_['value'])\n",
        "melted_ = melted_.sort_values('abs', ascending=False)\n",
        "melted_.reset_index(inplace=True,drop=True)\n",
        "melted_.reset_index(inplace=True,drop=False)\n",
        "\n"
      ],
      "execution_count": null,
      "outputs": []
    },
    {
      "cell_type": "markdown",
      "metadata": {
        "id": "CInR7obpXiWb"
      },
      "source": [
        "## ParKCa\n",
        "\n",
        "1. Learners: Deconfounder, BART\n",
        "\n"
      ]
    },
    {
      "cell_type": "code",
      "metadata": {
        "colab": {
          "base_uri": "https://localhost:8080/"
        },
        "id": "D-ZsJdOispRn",
        "outputId": "57ab1ca5-533c-4498-e2da-4c97ae71effc"
      },
      "source": [
        "import train as parkca\n",
        "import eval as evaluation\n",
        "import time \n",
        "learners = False\n",
        "if learners: \n",
        "  X1 = preprocessing.MinMaxScaler().fit_transform(data.x_clinical)\n",
        "  X = np.concatenate([X1,data.x_snps], axis = 1)\n",
        "\n",
        "  coef = parkca.learners(['DA','noise'],X,data.y,data.x_snps_names, colnamesZ = data.x_clinical_names) #bart is time consuming\n",
        "  #coef = parkca.learners(['CEVAE'],X,y,x_colnames, colnamesZ = x_clinical_names) #SAVED\n",
        "  z = np.load(\"cevae_cate_checkpoints_z.npy\")\n",
        "  a = np.load(\"cevae_cate_checkpoints_a.npy\")\n",
        "  b = np.load(\"cevae_cate_checkpoints_b.npy\")\n",
        "  c = np.load(\"cevae_cate_checkpoints_c.npy\")\n",
        "  d = np.load(\"cevae_cate_checkpoints_d.npy\")\n",
        "  e = np.load(\"cevae_cate_checkpoints_e.npy\")\n",
        "  f = np.load(\"cevae_cate_checkpoints_f.npy\")\n",
        "\n",
        "  print(len(z)+len(a)+len(b)+len(c)+len(d)+len(e)+len(f))\n",
        "  z = [item for sublist in z for item in sublist]\n",
        "  a = [item for sublist in a for item in sublist]\n",
        "  b = [item for sublist in b for item in sublist]\n",
        "  c = [item for sublist in c for item in sublist]\n",
        "  d = [item for sublist in d for item in sublist]\n",
        "  e = [item for sublist in e for item in sublist]\n",
        "  f = [item for sublist in f for item in sublist]\n",
        "\n",
        "  cevae_coef = np.concatenate([z,a,b,c,d,e,f], 0)\n",
        "  print(len(cevae_coef))\n",
        "  coef['CEVAE'] = cevae_coef\n",
        "  np.save('level1data',coef)\n",
        "  level1data = coef\n",
        "else: \n",
        "  level1data = np.load('level1data.npy', allow_pickle=True)\n",
        "  level1data = pd.DataFrame(level1data, columns = ['causes','DA','noise','cevae'])\n",
        "  print(level1data.head())\n",
        "\n",
        "level1data['y'] = 0\n",
        "level1data['y'] = [1 if i in data.known_snps else 0 for i in level1data['causes'].values]\n",
        "\n"
      ],
      "execution_count": null,
      "outputs": [
        {
          "output_type": "stream",
          "text": [
            "WARNING:tensorflow:From /usr/local/lib/python3.7/dist-packages/tensorflow/python/compat/v2_compat.py:96: disable_resource_variables (from tensorflow.python.ops.variable_scope) is deprecated and will be removed in a future version.\n",
            "Instructions for updating:\n",
            "non-resource variables are not supported in the long term\n",
            "Available devices  1\n",
            "Current cuda device  0\n",
            "        causes         DA     noise      cevae\n",
            "0  1_rs3820011   0.198838   0.78991 -0.0321922\n",
            "1  1_rs6605080  -0.271758 -0.735683  -0.232704\n",
            "2   1_rs383968  0.0702615   2.11437  -0.120306\n",
            "3  1_rs2743979   -0.14591  0.930926  -0.108644\n",
            "4  1_rs4648564   0.182521 -0.192133   0.305462\n"
          ],
          "name": "stdout"
        }
      ]
    },
    {
      "cell_type": "code",
      "metadata": {
        "colab": {
          "base_uri": "https://localhost:8080/"
        },
        "id": "h48lCt-IHtmA",
        "outputId": "c49a1301-b13f-426b-e2e8-267aa9e71f4b"
      },
      "source": [
        "level1data.set_index('causes', inplace=True, drop=True)\n",
        "level1data = parkca.data_norm(level1data)\n",
        "roc, output, y_full_prob = parkca.meta_learner(level1data.fillna(0), ['lr','nn','upu','rf'],'y')\n"
      ],
      "execution_count": null,
      "outputs": [
        {
          "output_type": "stream",
          "text": [
            "Meta-learner: LR\n",
            "Meta-learner: NN\n",
            "Meta-learner: UPU\n",
            "Library Missing\n",
            "Check: https://github.com/t-sakai-kure/pywsl\n",
            "Meta-learner: RF\n"
          ],
          "name": "stdout"
        }
      ]
    },
    {
      "cell_type": "code",
      "metadata": {
        "id": "8NWVRJ6gzcbm"
      },
      "source": [
        "output_potential_causes, output_potential_causes_signal  = [], []\n",
        "output_missing_causes, output_missing_causes_signal, output_confirmed_causes  = [], [],[]\n",
        "\n",
        "for i in range(len(output['rf'])): \n",
        "    if output['rf'][i]==1: \n",
        "        output_potential_causes.append(output.index[i])\n",
        "        output_potential_causes_signal.append(y_full_prob[i,1])\n",
        "        if output.index[i] in data.known_snps: \n",
        "            output_confirmed_causes.append(output.index[i])           \n",
        "    elif output['rf'][i]==0 and output.index[i] in data.known_snps: \n",
        "        output_missing_causes.append(output.index[i])\n",
        "        #snps.append(data1.index[i])\n",
        "        output_missing_causes_signal.append(y_full_prob[i,1])\n",
        "    else: \n",
        "      pass "
      ],
      "execution_count": null,
      "outputs": []
    },
    {
      "cell_type": "code",
      "metadata": {
        "id": "5AOlASOH_-Wp",
        "colab": {
          "base_uri": "https://localhost:8080/"
        },
        "outputId": "55c71628-d174-4104-9c77-1f33778ae4a7"
      },
      "source": [
        "print(\"Missing Causes:\", len(output_missing_causes))\n",
        "print(\"Confirmed Causes:\", len(output_confirmed_causes))\n",
        "print(\"New Potential Causes:\", len(output_potential_causes)-len(output_confirmed_causes))\n",
        "\n",
        "np.savetxt('output_missing_causes.txt', output_missing_causes,fmt='%s')\n",
        "np.savetxt('output_confirmed_causes.txt', output_confirmed_causes,fmt='%s')\n",
        "np.savetxt('output_potential_causes.txt', output_potential_causes,fmt='%s')\n",
        "np.savetxt('output_potential_causes_signal.txt', output_potential_causes_signal,fmt='%s')\n",
        "np.savetxt('output_missing_causes_signal.txt', output_missing_causes_signal,fmt='%s')"
      ],
      "execution_count": null,
      "outputs": [
        {
          "output_type": "stream",
          "text": [
            "Missing Causes: 35\n",
            "Confirmed Causes: 32\n",
            "New Potential Causes: 127\n"
          ],
          "name": "stdout"
        }
      ]
    },
    {
      "cell_type": "markdown",
      "metadata": {
        "id": "H50i1ImRSUlS"
      },
      "source": [
        "# Predictive Models "
      ]
    },
    {
      "cell_type": "code",
      "metadata": {
        "id": "eRb-LoM9LqgR",
        "colab": {
          "base_uri": "https://localhost:8080/"
        },
        "outputId": "5bed8da3-8ca3-4bb4-b5a5-afc36ee6cb71"
      },
      "source": [
        "output_missing_causes = np.loadtxt('output_missing_causes.txt', dtype=np.str)\n",
        "output_confirmed_causes = np.loadtxt('output_confirmed_causes.txt', dtype=np.str)\n",
        "output_potential_causes = np.loadtxt('output_potential_causes.txt', dtype=np.str)\n",
        "output_potential_causes_signal= np.loadtxt('output_potential_causes_signal.txt', dtype=np.str)\n",
        "output_missing_causes_signal = np.loadtxt('output_missing_causes_signal.txt', dtype=np.str)\n",
        "\n",
        "if data_preprocessing:  \n",
        "  print('Option 1: Starting pre-processing:')\n",
        "  data = goPDX(final=False)\n",
        "  #import data_preprossing_functions as dpf\n",
        "  #y, x_clinical, x_snps, x_colnames, x_clinical_names = dpf.run_preprocessing(path, True)\n",
        "  #x_clinical = x_clinical.astype('float64')\n",
        "  #print('Done!')\n",
        "  #print('Shapes:',len(y), sum(y), x_clinical.shape, x_snps.shape, len(x_colnames), len(x_clinical_names))\n",
        "  ##318 (318, 42) (318, 16641) 16641\n",
        "else: \n",
        "  print('Option 2: Reading files')\n",
        "  data = goPDX()"
      ],
      "execution_count": null,
      "outputs": [
        {
          "output_type": "stream",
          "text": [
            "Option 2: Reading files\n",
            "Loading final form:\n",
            "Target Y:  302  items and  187  positive examples\n",
            "Clinical:  302 items and  41  columns\n",
            "SNPS:  302 items and  16195  columns\n"
          ],
          "name": "stdout"
        }
      ]
    },
    {
      "cell_type": "code",
      "metadata": {
        "id": "5MB2wXaK9681"
      },
      "source": [
        "# Option 1: using the 300\n",
        "# option 2: using the != potential (known)\n",
        "# option 3: using the confirmedis (-potential - missing)\n",
        "# option 4: using only clinical information (sex, ..., )\n",
        "# option 5: Random\n",
        "\n",
        "from random import sample\n",
        "from sklearn.ensemble import RandomForestClassifier\n",
        "from sklearn.model_selection import train_test_split, GridSearchCV\n",
        "from sklearn.metrics import confusion_matrix, f1_score, accuracy_score\n",
        "from sklearn.preprocessing import MinMaxScaler\n",
        "from sklearn.linear_model import LogisticRegression\n",
        "from sklearn.metrics import confusion_matrix, f1_score, precision_score, recall_score\n",
        "\n",
        "def predict_outcome(y_train, y_test, X_train, X_test, lr, clinical, clinical_len, snpsbool, filter):\n",
        "    w = len(y_train) / y_train.sum()\n",
        "    sample_weight = np.array([w if i == 1 else 1 for i in y_train])\n",
        "    if lr: \n",
        "      model = LogisticRegression()\n",
        "      tag = 'Logistic Regression'\n",
        "      model.fit(X_train, y_train, sample_weight=sample_weight)\n",
        "      if clinical: \n",
        "        coef = model.coef_[0][0:clinical_len]\n",
        "        start = clinical_len\n",
        "      else: \n",
        "        coef = []\n",
        "        start = 0\n",
        "      if snpsbool: \n",
        "        end = X_train.shape[1]\n",
        "        # print('Lengths:', len(filter),len(np.abs(model.coef_[0][start:end])))\n",
        "        temp = pd.DataFrame({'Coef':filter,\n",
        "                        'Value':np.abs(model.coef_[0][start:end])})\n",
        "        coefsnps =  temp.sort_values(by=['Value'], ascending = False)[0:5]['Coef']\n",
        "      else: \n",
        "        coefanps = []\n",
        "    \n",
        "    else:\n",
        "      model = RandomForestClassifier(max_depth=6, random_state=0)\n",
        "      tag = 'Random Forest'\n",
        "      model.fit(X_train, y_train, sample_weight=sample_weight)\n",
        "      if clinical: \n",
        "        coef = model.feature_importances_[0:clinical_len]\n",
        "        start = clinical_len\n",
        "      else: \n",
        "        coef = []\n",
        "        start = 0\n",
        "      if snpsbool:\n",
        "        end = X_train.shape[1]\n",
        "        #print('Lengths:', len(filter),len(np.abs(model.feature_importances_[start:end])))\n",
        "        temp = pd.DataFrame({'Coef':filter,\n",
        "                        'Value':np.abs(model.feature_importances_[start:end])})\n",
        "        coefsnps =  temp.sort_values(by=['Value'], ascending = False)[0:5]['Coef']\n",
        "      else: \n",
        "        coefanps = []\n",
        "\n",
        "\n",
        "    y_train_p = model.predict(X_train)\n",
        "    y_test_p = model.predict(X_test)\n",
        "\n",
        "    f1_train = roc_auc_score(y_train, y_train_p)\n",
        "    f1_test = roc_auc_score(y_test, y_test_p)\n",
        "\n",
        "    p_train = precision_score(y_train, y_train_p)\n",
        "    p_test = precision_score(y_train, y_train_p)\n",
        "\n",
        "    r_train = recall_score(y_train, y_train_p)\n",
        "    r_test = recall_score(y_train, y_train_p)\n",
        "\n",
        "\n",
        "    return tag, f1_train, p_train, r_train, f1_test, p_test, r_test , coef , coefsnps \n",
        "\n",
        "def predictive_models_comp(data, filter, tag,typemodel, clinical = True, snps = True, clinical_filter = None):\n",
        "    \n",
        "    # print(option)\n",
        "    if clinical: \n",
        "      tag1 = 'Yes'\n",
        "    else: \n",
        "      tag1 = '-'\n",
        "\n",
        "    remove = []\n",
        "    for i in range(len(data.x_snps_names)):\n",
        "        if data.x_snps_names[i] not in filter:\n",
        "            remove.append(i)\n",
        "\n",
        "    X = np.delete(data.x_snps, remove, axis=1)\n",
        "    colX = np.delete(data.x_snps_names, remove, axis=0)\n",
        "\n",
        "    y = data.y\n",
        "    scaler = MinMaxScaler()\n",
        "\n",
        "    if clinical_filter is not None: \n",
        "      print('Reducing Clinical')\n",
        "      remove_c = []\n",
        "      for i in range(len(data.x_clinical_names)):\n",
        "        if data.x_clinical_names[i] not in clinical_filter:\n",
        "          remove_c.append(i)\n",
        "      Xc = np.delete(data.x_clinical,remove_c,axis = 1)\n",
        "      colXc = np.delete(data.x_clinical_names,remove_c, axis = 0)\n",
        "      print('Clinical Feature order',colXc)\n",
        "      Z = scaler.fit_transform(Xc)\n",
        "    else: \n",
        "      Z = scaler.fit_transform(data.x_clinical)\n",
        "    if clinical and not snps:\n",
        "        X = Z\n",
        "    elif snps and not clinical: \n",
        "        X = X\n",
        "    else:\n",
        "        X = np.concatenate([Z, X], axis=1)\n",
        "\n",
        "    if clinical_filter is not None: \n",
        "      print(X.shape)\n",
        "\n",
        "    rep = 30\n",
        "    f1_train, f1_test = np.zeros(rep), np.zeros(rep)\n",
        "    for seed in range(rep):\n",
        "      y_train, y_test, X_train, X_test = train_test_split(y, X, test_size=0.3, random_state=seed) #8\n",
        "      model, f1_train[seed], p_train, r_train, f1_test[seed], p_test, r_test, coef, coefsnps = predict_outcome(y_train, y_test, X_train, X_test,typemodel, clinical, Z.shape[1], snps, colX)\n",
        "      \n",
        "    roc = {'Clinical': tag1,'SNPs':tag,'model':model, 'f1_train':f1_train.mean(), 'f1_train_sd':np.std(f1_train), \n",
        "           'f1_test': f1_test.mean(), 'f1_test_sd':np.std(f1_test), 'coef':coef, 'coefsnps':coefsnps}\n",
        "    #roc = {'type': tag,'model':model, 'f1_train':f1_train, 'p_train':p_train, 'r_train':r_train,\n",
        "    #       'f1_test': f1_test, 'p_test':p_test, \"r_test\":r_test}\n",
        "    return roc\n"
      ],
      "execution_count": null,
      "outputs": []
    },
    {
      "cell_type": "code",
      "metadata": {
        "id": "NAEVc-cA4n9G"
      },
      "source": [
        "roc_table = pd.DataFrame(columns=['Clinical','SNPs','model', 'f1_train', 'f1_train_sd','f1_test','f1_test_sd', 'coef','coefsnps'])\n",
        "roc_table = roc_table.append(predictive_models_comp(data,output_potential_causes,'All Potential Causes',True,True,True), ignore_index=True)\n",
        "roc_table = roc_table.append(predictive_models_comp(data,output_potential_causes,'All Potential Causes',False,True,True), ignore_index=True)\n",
        "roc_table = roc_table.append(predictive_models_comp(data, data.known_snps,'Known SNPS',True,True,True), ignore_index=True)\n",
        "roc_table = roc_table.append(predictive_models_comp(data, data.known_snps,'Known SNPS',False,True,True), ignore_index=True)\n",
        "roc_table = roc_table.append(predictive_models_comp(data, output_confirmed_causes,'Confirmed SNPS',True,True,True), ignore_index=True)\n",
        "roc_table = roc_table.append(predictive_models_comp(data, output_confirmed_causes,'Confirmed SNPS',False,True,True), ignore_index=True)\n",
        "roc_table = roc_table.append(predictive_models_comp(data, [],'-',True,True,True), ignore_index=True)\n",
        "roc_table = roc_table.append(predictive_models_comp(data, [],'-',False,True,True), ignore_index=True)\n",
        "roc_table = roc_table.append(predictive_models_comp(data,sample(list(data.x_snps_names),40),'Random',True,True,True ), ignore_index=True)\n",
        "roc_table = roc_table.append(predictive_models_comp(data,sample(list(data.x_snps_names),40),'Random',False,True,True ), ignore_index=True)\n",
        "\n",
        "roc_table = roc_table.append(predictive_models_comp(data,output_potential_causes,'All Potential Causes',True,False,True), ignore_index=True)\n",
        "roc_table = roc_table.append(predictive_models_comp(data,output_potential_causes,'All Potential Causes',False,False,True), ignore_index=True)\n",
        "roc_table = roc_table.append(predictive_models_comp(data, data.known_snps,'Known SNPS',True,False,True), ignore_index=True)\n",
        "roc_table = roc_table.append(predictive_models_comp(data, data.known_snps,'Known SNPS',False,False,True), ignore_index=True)\n",
        "roc_table = roc_table.append(predictive_models_comp(data, output_confirmed_causes,'Confirmed SNPS',True,False,True), ignore_index=True)\n",
        "roc_table = roc_table.append(predictive_models_comp(data, output_confirmed_causes,'Confirmed SNPS',False,False,True), ignore_index=True)\n",
        "roc_table = roc_table.append(predictive_models_comp(data,sample(list(data.x_snps_names),40),'Random',True,False,True ), ignore_index=True)\n",
        "roc_table = roc_table.append(predictive_models_comp(data,sample(list(data.x_snps_names),40),'Random',False,False,True ), ignore_index=True)\n",
        "\n"
      ],
      "execution_count": null,
      "outputs": []
    },
    {
      "cell_type": "code",
      "metadata": {
        "id": "6hWg1r2_-coP",
        "colab": {
          "base_uri": "https://localhost:8080/",
          "height": 232
        },
        "outputId": "f98c5ce0-2385-43dd-f875-0f647c3de38d"
      },
      "source": [
        "top5coef = []\n",
        "top5snps = []\n",
        "\n",
        "for i in range(roc_table.shape[0]):\n",
        "  if roc_table['Clinical'][i] =='Yes':\n",
        "    temp = pd.DataFrame({'Coef':data.x_clinical_names,\n",
        "                        'Value':np.abs(roc_table['coef'][i][0:len(data.x_clinical_names)]) })\n",
        "    top5coef.append(temp.sort_values(by=['Value'], ascending = False)[0:5]['Coef'].values)\n",
        "  else: \n",
        "    top5coef.append([])\n",
        "  if roc_table['SNPs'][i] !='-':\n",
        "    top5snps.append(roc_table['coefsnps'][i])\n",
        "  \n",
        "roc_table['top5'] = top5coef\n"
      ],
      "execution_count": null,
      "outputs": [
        {
          "output_type": "error",
          "ename": "NameError",
          "evalue": "ignored",
          "traceback": [
            "\u001b[0;31m---------------------------------------------------------------------------\u001b[0m",
            "\u001b[0;31mNameError\u001b[0m                                 Traceback (most recent call last)",
            "\u001b[0;32m<ipython-input-6-e04c142da27f>\u001b[0m in \u001b[0;36m<module>\u001b[0;34m()\u001b[0m\n\u001b[1;32m      2\u001b[0m \u001b[0mtop5snps\u001b[0m \u001b[0;34m=\u001b[0m \u001b[0;34m[\u001b[0m\u001b[0;34m]\u001b[0m\u001b[0;34m\u001b[0m\u001b[0;34m\u001b[0m\u001b[0m\n\u001b[1;32m      3\u001b[0m \u001b[0;34m\u001b[0m\u001b[0m\n\u001b[0;32m----> 4\u001b[0;31m \u001b[0;32mfor\u001b[0m \u001b[0mi\u001b[0m \u001b[0;32min\u001b[0m \u001b[0mrange\u001b[0m\u001b[0;34m(\u001b[0m\u001b[0mroc_table\u001b[0m\u001b[0;34m.\u001b[0m\u001b[0mshape\u001b[0m\u001b[0;34m[\u001b[0m\u001b[0;36m0\u001b[0m\u001b[0;34m]\u001b[0m\u001b[0;34m)\u001b[0m\u001b[0;34m:\u001b[0m\u001b[0;34m\u001b[0m\u001b[0;34m\u001b[0m\u001b[0m\n\u001b[0m\u001b[1;32m      5\u001b[0m   \u001b[0;32mif\u001b[0m \u001b[0mroc_table\u001b[0m\u001b[0;34m[\u001b[0m\u001b[0;34m'Clinical'\u001b[0m\u001b[0;34m]\u001b[0m\u001b[0;34m[\u001b[0m\u001b[0mi\u001b[0m\u001b[0;34m]\u001b[0m \u001b[0;34m==\u001b[0m\u001b[0;34m'Yes'\u001b[0m\u001b[0;34m:\u001b[0m\u001b[0;34m\u001b[0m\u001b[0;34m\u001b[0m\u001b[0m\n\u001b[1;32m      6\u001b[0m     temp = pd.DataFrame({'Coef':data.x_clinical_names,\n",
            "\u001b[0;31mNameError\u001b[0m: name 'roc_table' is not defined"
          ]
        }
      ]
    },
    {
      "cell_type": "markdown",
      "metadata": {
        "id": "RPjI-pcL231O"
      },
      "source": [
        "Most important clinical features:"
      ]
    },
    {
      "cell_type": "code",
      "metadata": {
        "colab": {
          "base_uri": "https://localhost:8080/"
        },
        "id": "Onx3WmM2OPV-",
        "outputId": "1147676d-3208-49d7-b46f-d59824dc8b82"
      },
      "source": [
        "from collections import Counter\n",
        "#\n",
        "#[-2.49402482 -1.30851286 0.6116446  1.25946129]\n",
        "#['AgeTreatmentInitiation (years)' 'CisplatinExactDuration (days)''HeadAndNeckRadiation (1=yes,0=no)''Vincristine_Concomitant (1=yes,0=no)']\n",
        "counts = [item for sublist in top5coef for item in sublist]\n",
        "df = pd.DataFrame.from_dict(Counter(counts), orient='index').reset_index()\n",
        "print(df.head())\n",
        "topclinical = ['AgeTreatmentInitiation (years)','CisplatinExactDuration (days)','Vincristine_Concomitant (1=yes,0=no)','HeadAndNeckRadiation (1=yes,0=no)']\n",
        "print(topclinical)\n",
        "#topsnps = ['2_rs9941697' '5_rs1347147' '19_rs3212986' '9_rs7851395' '17_rs1051640'\n",
        "# '6_rs451774' '1_rs1801133&COSM146404&COSM3927609']"
      ],
      "execution_count": null,
      "outputs": [
        {
          "output_type": "stream",
          "text": [
            "                                  index   0\n",
            "0        AgeTreatmentInitiation (years)  10\n",
            "1  Vincristine_Concomitant (1=yes,0=no)   9\n",
            "2         CisplatinExactDuration (days)   8\n",
            "3     HeadAndNeckRadiation (1=yes,0=no)   4\n",
            "4   Vancomycin_Concomitant (1=yes,0=no)   1\n",
            "['AgeTreatmentInitiation (years)', 'CisplatinExactDuration (days)', 'Vincristine_Concomitant (1=yes,0=no)', 'HeadAndNeckRadiation (1=yes,0=no)']\n"
          ],
          "name": "stdout"
        }
      ]
    },
    {
      "cell_type": "code",
      "metadata": {
        "id": "KGm7h3l--R1D",
        "colab": {
          "base_uri": "https://localhost:8080/"
        },
        "outputId": "f6f7b300-ff61-403e-af0e-65b0085ac3d0"
      },
      "source": [
        "counts = [item for sublist in top5snps for item in sublist]\n",
        "df = pd.DataFrame.from_dict(Counter(counts), orient='index').reset_index()\n",
        "df.columns = ['SNPs','freq']\n",
        "df = df[df['freq']>2].SNPs.values\n",
        "print(df)\n"
      ],
      "execution_count": null,
      "outputs": [
        {
          "output_type": "stream",
          "text": [
            "['2_rs9941697' '5_rs1347147' '19_rs3212986' '9_rs7851395' '17_rs1051640'\n",
            " '6_rs451774' '1_rs1801133&COSM146404&COSM3927609']\n"
          ],
          "name": "stdout"
        }
      ]
    },
    {
      "cell_type": "code",
      "metadata": {
        "colab": {
          "base_uri": "https://localhost:8080/"
        },
        "id": "e9v1TkWh-u3E",
        "outputId": "3346983c-80ae-47c0-db78-5ce2fa34f997"
      },
      "source": [
        "#TOP MODEL: \n",
        "topsnps = ['2_rs9941697', '5_rs1347147' ,'19_rs3212986', '9_rs7851395', '17_rs1051640', '6_rs451774', '1_rs1801133&COSM146404&COSM3927609']\n",
        "topclinical = ['AgeTreatmentInitiation (years)','CisplatinExactDuration (days)','Vincristine_Concomitant (1=yes,0=no)','HeadAndNeckRadiation (1=yes,0=no)']\n",
        "print(len(topsnps),len(topclinical))\n",
        "\n",
        "roc_table2 = pd.DataFrame(columns=['Clinical','SNPs','model', 'f1_train', 'f1_train_sd','f1_test','f1_test_sd', 'coef','coefsnps'])\n",
        "roc_table2 = roc_table2.append(predictive_models_comp(data,topsnps,'top features',True,True,True,topclinical), ignore_index=True)\n",
        "roc_table2 = roc_table2.append(predictive_models_comp(data,topsnps,'top features',False,True,True,topclinical), ignore_index=True)\n",
        "roc_table2 = roc_table2.append(predictive_models_comp(data,topsnps,'top snps',True,False,True,topclinical), ignore_index=True)\n",
        "roc_table2 = roc_table2.append(predictive_models_comp(data,topsnps,'top snps',False,False,True,topclinical), ignore_index=True)\n",
        "roc_table2 = roc_table2.append(predictive_models_comp(data,[],'top clinical',True,True,True,topclinical), ignore_index=True)\n",
        "roc_table2 = roc_table2.append(predictive_models_comp(data,[],'top clinical',False,True,True,topclinical), ignore_index=True)\n",
        "#roc_table2.to_csv('roc_table2.csv')\n"
      ],
      "execution_count": null,
      "outputs": [
        {
          "output_type": "stream",
          "text": [
            "7 4\n",
            "Reducing Clinical\n",
            "Clinical Feature order ['AgeTreatmentInitiation (years)' 'CisplatinExactDuration (days)'\n",
            " 'HeadAndNeckRadiation (1=yes,0=no)'\n",
            " 'Vincristine_Concomitant (1=yes,0=no)']\n",
            "(302, 11)\n",
            "Reducing Clinical\n",
            "Clinical Feature order ['AgeTreatmentInitiation (years)' 'CisplatinExactDuration (days)'\n",
            " 'HeadAndNeckRadiation (1=yes,0=no)'\n",
            " 'Vincristine_Concomitant (1=yes,0=no)']\n",
            "(302, 11)\n",
            "Reducing Clinical\n",
            "Clinical Feature order ['AgeTreatmentInitiation (years)' 'CisplatinExactDuration (days)'\n",
            " 'HeadAndNeckRadiation (1=yes,0=no)'\n",
            " 'Vincristine_Concomitant (1=yes,0=no)']\n",
            "(302, 7)\n",
            "Reducing Clinical\n",
            "Clinical Feature order ['AgeTreatmentInitiation (years)' 'CisplatinExactDuration (days)'\n",
            " 'HeadAndNeckRadiation (1=yes,0=no)'\n",
            " 'Vincristine_Concomitant (1=yes,0=no)']\n",
            "(302, 7)\n",
            "Reducing Clinical\n",
            "Clinical Feature order ['AgeTreatmentInitiation (years)' 'CisplatinExactDuration (days)'\n",
            " 'HeadAndNeckRadiation (1=yes,0=no)'\n",
            " 'Vincristine_Concomitant (1=yes,0=no)']\n",
            "(302, 4)\n",
            "Reducing Clinical\n",
            "Clinical Feature order ['AgeTreatmentInitiation (years)' 'CisplatinExactDuration (days)'\n",
            " 'HeadAndNeckRadiation (1=yes,0=no)'\n",
            " 'Vincristine_Concomitant (1=yes,0=no)']\n",
            "(302, 4)\n"
          ],
          "name": "stdout"
        }
      ]
    },
    {
      "cell_type": "code",
      "metadata": {
        "colab": {
          "base_uri": "https://localhost:8080/",
          "height": 337
        },
        "id": "wwsPYCanVWsO",
        "outputId": "45c00156-cb33-4b23-b7f6-49d673eece0e"
      },
      "source": [
        "roc_table2"
      ],
      "execution_count": null,
      "outputs": [
        {
          "output_type": "execute_result",
          "data": {
            "text/html": [
              "<div>\n",
              "<style scoped>\n",
              "    .dataframe tbody tr th:only-of-type {\n",
              "        vertical-align: middle;\n",
              "    }\n",
              "\n",
              "    .dataframe tbody tr th {\n",
              "        vertical-align: top;\n",
              "    }\n",
              "\n",
              "    .dataframe thead th {\n",
              "        text-align: right;\n",
              "    }\n",
              "</style>\n",
              "<table border=\"1\" class=\"dataframe\">\n",
              "  <thead>\n",
              "    <tr style=\"text-align: right;\">\n",
              "      <th></th>\n",
              "      <th>Clinical</th>\n",
              "      <th>SNPs</th>\n",
              "      <th>model</th>\n",
              "      <th>f1_train</th>\n",
              "      <th>f1_train_sd</th>\n",
              "      <th>f1_test</th>\n",
              "      <th>f1_test_sd</th>\n",
              "      <th>coef</th>\n",
              "      <th>coefsnps</th>\n",
              "    </tr>\n",
              "  </thead>\n",
              "  <tbody>\n",
              "    <tr>\n",
              "      <th>0</th>\n",
              "      <td>Yes</td>\n",
              "      <td>top features</td>\n",
              "      <td>Logistic Regression</td>\n",
              "      <td>0.717979</td>\n",
              "      <td>0.024990</td>\n",
              "      <td>0.680221</td>\n",
              "      <td>0.042817</td>\n",
              "      <td>[-2.3047990762838673, -1.2359837168186598, 0.6...</td>\n",
              "      <td>4                           9_rs7851395\n",
              "6     ...</td>\n",
              "    </tr>\n",
              "    <tr>\n",
              "      <th>1</th>\n",
              "      <td>Yes</td>\n",
              "      <td>top features</td>\n",
              "      <td>Random Forest</td>\n",
              "      <td>0.855164</td>\n",
              "      <td>0.019405</td>\n",
              "      <td>0.656819</td>\n",
              "      <td>0.037441</td>\n",
              "      <td>[0.41612374485557935, 0.1863505936644105, 0.04...</td>\n",
              "      <td>6     5_rs1347147\n",
              "4     9_rs7851395\n",
              "0     2_rs...</td>\n",
              "    </tr>\n",
              "    <tr>\n",
              "      <th>2</th>\n",
              "      <td>-</td>\n",
              "      <td>top snps</td>\n",
              "      <td>Logistic Regression</td>\n",
              "      <td>0.568304</td>\n",
              "      <td>0.035505</td>\n",
              "      <td>0.543583</td>\n",
              "      <td>0.030574</td>\n",
              "      <td>[]</td>\n",
              "      <td>6     5_rs1347147\n",
              "5    17_rs1051640\n",
              "4     9_rs...</td>\n",
              "    </tr>\n",
              "    <tr>\n",
              "      <th>3</th>\n",
              "      <td>-</td>\n",
              "      <td>top snps</td>\n",
              "      <td>Random Forest</td>\n",
              "      <td>0.607084</td>\n",
              "      <td>0.032776</td>\n",
              "      <td>0.553727</td>\n",
              "      <td>0.040302</td>\n",
              "      <td>[]</td>\n",
              "      <td>6                           5_rs1347147\n",
              "4     ...</td>\n",
              "    </tr>\n",
              "    <tr>\n",
              "      <th>4</th>\n",
              "      <td>Yes</td>\n",
              "      <td>top clinical</td>\n",
              "      <td>Logistic Regression</td>\n",
              "      <td>0.666842</td>\n",
              "      <td>0.028897</td>\n",
              "      <td>0.645636</td>\n",
              "      <td>0.041952</td>\n",
              "      <td>[-2.494024816365277, -1.308512860814862, 0.611...</td>\n",
              "      <td>Series([], Name: Coef, dtype: object)</td>\n",
              "    </tr>\n",
              "    <tr>\n",
              "      <th>5</th>\n",
              "      <td>Yes</td>\n",
              "      <td>top clinical</td>\n",
              "      <td>Random Forest</td>\n",
              "      <td>0.863704</td>\n",
              "      <td>0.023679</td>\n",
              "      <td>0.636099</td>\n",
              "      <td>0.038134</td>\n",
              "      <td>[0.6346456272589348, 0.23673612092166496, 0.03...</td>\n",
              "      <td>Series([], Name: Coef, dtype: object)</td>\n",
              "    </tr>\n",
              "  </tbody>\n",
              "</table>\n",
              "</div>"
            ],
            "text/plain": [
              "  Clinical  ...                                           coefsnps\n",
              "0      Yes  ...  4                           9_rs7851395\n",
              "6     ...\n",
              "1      Yes  ...  6     5_rs1347147\n",
              "4     9_rs7851395\n",
              "0     2_rs...\n",
              "2        -  ...  6     5_rs1347147\n",
              "5    17_rs1051640\n",
              "4     9_rs...\n",
              "3        -  ...  6                           5_rs1347147\n",
              "4     ...\n",
              "4      Yes  ...              Series([], Name: Coef, dtype: object)\n",
              "5      Yes  ...              Series([], Name: Coef, dtype: object)\n",
              "\n",
              "[6 rows x 9 columns]"
            ]
          },
          "metadata": {
            "tags": []
          },
          "execution_count": 60
        }
      ]
    },
    {
      "cell_type": "code",
      "metadata": {
        "colab": {
          "base_uri": "https://localhost:8080/"
        },
        "id": "NvXeyklUCNnV",
        "outputId": "9d1ed2e0-e3f5-4369-a3b5-22b93fb21fb6"
      },
      "source": [
        "#making a NN with top 12 features\n",
        "import torch\n",
        "import torch.nn as nn\n",
        "from torch import optim, Tensor\n",
        "import torch.distributions\n",
        "import torch.nn.functional as F\n",
        "from torch.distributions import bernoulli, normal\n",
        "from torch.utils.data import Dataset, DataLoader, TensorDataset\n",
        "# https://stackabuse.com/introduction-to-pytorch-for-classification/\n",
        "from sklearn.metrics import confusion_matrix, f1_score, precision_score, recall_score, roc_auc_score\n",
        "\n",
        "\n",
        "print('Available devices ', torch.cuda.device_count())\n",
        "print('Current cuda device ', torch.cuda.current_device())\n",
        "cuda = torch.device('cuda')\n",
        "\n",
        "\n",
        "class Model(nn.Module):\n",
        "\n",
        "    def __init__(self, input_size, output_size, layers, p=0.4):\n",
        "        super().__init__()\n",
        "        self.dropout = nn.Dropout(p)\n",
        "        all_layers = []\n",
        "        self.softmax = nn.Softmax(dim=1)\n",
        "        for i in layers:\n",
        "            all_layers.append(nn.Linear(input_size, i))\n",
        "            all_layers.append(nn.Tanh())\n",
        "            #all_layers.append(nn.ReLU(inplace=True))\n",
        "            all_layers.append(nn.Dropout(p))\n",
        "            input_size = i\n",
        "\n",
        "        all_layers.append(nn.Linear(layers[-1], output_size))\n",
        "        self.layers = nn.Sequential(*all_layers)\n",
        "\n",
        "    def forward(self, X):\n",
        "        x = self.layers(X)\n",
        "        x = self.softmax(x)\n",
        "        return x"
      ],
      "execution_count": null,
      "outputs": [
        {
          "output_type": "stream",
          "text": [
            "Available devices  1\n",
            "Current cuda device  0\n"
          ],
          "name": "stdout"
        }
      ]
    },
    {
      "cell_type": "code",
      "metadata": {
        "id": "ad_islt7CmOx"
      },
      "source": [
        "#y = Tensor(data.y)\n",
        "scaler = MinMaxScaler()\n",
        "\n",
        "remove_c, remove_s = [],[]\n",
        "for i in range(len(data.x_clinical_names)):\n",
        "  if data.x_clinical_names[i] not in topclinical:\n",
        "    remove_c.append(i)\n",
        "for i in range(len(data.x_snps_names)):\n",
        "  if data.x_snps_names[i] not in topsnps:\n",
        "    remove_s.append(i)\n",
        "\n",
        "Xc = np.delete(data.x_clinical,remove_c,axis = 1)\n",
        "Xs = np.delete(data.x_snps,remove_s, axis =1)\n",
        "Z = scaler.fit_transform(Xc)\n",
        "X = np.concatenate([Z,Xs],axis =1)\n",
        "\n",
        "X_train, X_test, y_train, y_test = train_test_split(X, data.y, test_size=0.33, random_state=1)\n",
        "X_val, X_test, y_val, y_test = train_test_split(X_test, y_test, test_size=0.5, random_state=1)\n",
        "\n",
        "dataset_train = TensorDataset(Tensor(X_train), Tensor(y_train))\n",
        "dataset_test = TensorDataset(Tensor(X_test), Tensor(y_test))\n",
        "dataset_val = TensorDataset(Tensor(X_val), Tensor(y_val))\n",
        "\n",
        "loader_train = DataLoader(dataset_train, shuffle=True, batch_size=30)\n",
        "loader_test = DataLoader(dataset_test, shuffle=False, batch_size=X_test.shape[0])\n",
        "loader_val = DataLoader(dataset_val, shuffle=False, batch_size=X_val.shape[0])"
      ],
      "execution_count": null,
      "outputs": []
    },
    {
      "cell_type": "code",
      "metadata": {
        "id": "Y-CeeVO1ESwD"
      },
      "source": [
        "def simple_classifier(input, output, layers, p,loader_train, loader_test, loader_val, epochs = 150 ):\n",
        "  aggregated_losses = []\n",
        "  auc, f1, loss_val = np.zeros(epochs), np.zeros(epochs), np.zeros(epochs)\n",
        "  model = Model(input, output, layers, p).cuda()\n",
        "  #model = Model(X.shape[1], 2, [10,10], p=0.4).cuda()\n",
        "  criterion = nn.CrossEntropyLoss().cuda()\n",
        "  optimizer = torch.optim.Adam(model.parameters(), lr=0.001)\n",
        "\n",
        "  for i in range(epochs):\n",
        "    auc_mean, loss_mean, f1_mean = 0,0,0\n",
        "    for j, batch in enumerate(loader_train):\n",
        "      optimizer.zero_grad()\n",
        "      train_y_pred = model(batch[0].cuda())\n",
        "      loss= criterion(train_y_pred, batch[1].long().cuda())\n",
        "      loss.backward()\n",
        "      optimizer.step()\n",
        "      train_y_pred = train_y_pred.reshape(train_y_pred.shape[0],2)[:,1].cpu().detach().numpy()\n",
        "      auc_mean += roc_auc_score(batch[1],train_y_pred)  \n",
        "      loss_mean += loss \n",
        "      train_y_pred = [1 if item > 0.5 else 0 for item in train_y_pred]\n",
        "      f1_mean += f1_score(batch[1], train_y_pred) \n",
        "    aggregated_losses.append(loss_mean.cpu().detach().numpy()/j)\n",
        "    #validation\n",
        "    batch = next(iter(loader_val))\n",
        "    val_y_pred = model(batch[0].cuda())\n",
        "    loss_val[i] = criterion(val_y_pred, batch[1].long().cuda()).cpu().detach().numpy()\n",
        "    auc[i] = auc_mean/j\n",
        "    f1[i] = f1_mean/j\n",
        "\n",
        "    #if i%50 == 0:\n",
        "    #    print(f'epoch: {i:3} loss: {loss.cpu().detach().numpy():10.8f}')\n",
        "    i += 1\n",
        "  batch = next(iter(loader_test))\n",
        "  test_y_pred = model(batch[0].cuda())\n",
        "\n",
        "  test_y_pred = test_y_pred.reshape(test_y_pred.shape[0],2)[:,1].cpu().detach().numpy()\n",
        "  auc_test = roc_auc_score(batch[1],test_y_pred)  \n",
        "  test_y_pred = [1 if item > 0.5 else 0 for item in test_y_pred]\n",
        "  f1_test = f1_score(batch[1], test_y_pred) \n",
        "\n",
        "  #print('Metrics Testing set')\n",
        "  #print('Auc', auc_test)\n",
        "  #print('F1', f1_test)    \n",
        "  #print('Metrics Traning Set')\n",
        "  #print('AUC from', auc[0],' to ', auc[-1])\n",
        "  #print('F1 from', f1[0],' to ', f1[-1])\n",
        "  return aggregated_losses, loss_val, auc, f1, auc_test, f1_test\n",
        "\n"
      ],
      "execution_count": null,
      "outputs": []
    },
    {
      "cell_type": "code",
      "metadata": {
        "colab": {
          "base_uri": "https://localhost:8080/"
        },
        "id": "SQKcFTzduMWC",
        "outputId": "d71138f0-7004-47e0-db69-7494e63ac888"
      },
      "source": [
        "epochs = 100\n",
        "rep = 20\n",
        "#exploring parameters: \n",
        "layers = [[4,4], [10,4],[9,3], [9,6,3], [12,3]]\n",
        "train_auc, train_f1, test_auc, test_f1 = np.zeros(len(layers)), np.zeros(len(layers)), np.zeros(len(layers)), np.zeros(len(layers))\n",
        "\n",
        "for i, setting in enumerate(layers): \n",
        "  train_auc_, train_f1_, test_auc_, test_f1_ = 0,0,0,0\n",
        "  print('Running...', i, setting)\n",
        "  for r in range(rep):\n",
        "    aggregated_losses, loss_val, auc, f1, auc_t, f1_t= simple_classifier(X.shape[1], 2,setting, 0.4, loader_train, loader_test, loader_val, epochs = epochs)\n",
        "    train_auc_+= auc[-1]\n",
        "    train_f1_ += f1[-1]\n",
        "    test_auc_ += auc_t\n",
        "    test_f1_ += f1_t\n",
        "  train_auc[i], train_f1[i], test_auc[i], test_f1[i] = train_auc_/rep, train_f1_/rep, test_auc_/rep, test_f1_/rep  \n",
        "\n"
      ],
      "execution_count": null,
      "outputs": [
        {
          "output_type": "stream",
          "text": [
            "Running... 0 [4, 4]\n",
            "Running... 1 [10, 4]\n",
            "Running... 2 [9, 3]\n",
            "Running... 3 [9, 6, 3]\n",
            "Running... 4 [12, 3]\n"
          ],
          "name": "stdout"
        }
      ]
    },
    {
      "cell_type": "code",
      "metadata": {
        "colab": {
          "base_uri": "https://localhost:8080/",
          "height": 205
        },
        "id": "uuTSBA3BxqUu",
        "outputId": "fa232e10-fbd0-432a-9588-150d18aab701"
      },
      "source": [
        "output = pd.DataFrame({'Layers':layers,'train_auc':train_auc, \n",
        "                      'train_f1': train_f1, 'test_auc':test_auc, \n",
        "                      'test_f1':test_f1})\n",
        "print(output)\n",
        "'''\n",
        "100 epochs and 0.4 dropout \n",
        "         Layers  train_auc  train_f1  test_auc   test_f1\n",
        "0        [4, 4]   0.787342  0.896620  0.654679  0.796417\n",
        "1        [8, 8]   0.878540  0.919917  0.748619  0.800893\n",
        "2      [10, 10]   0.899645  0.933157  0.736898  0.786487\n",
        "3      [12, 12]   0.913372  0.943850  0.742469  0.786332\n",
        "4     [4, 4, 4]   0.730809  0.872506  0.627986  0.778127\n",
        "5  [10, 10, 10]   0.900927  0.928287  0.753298  0.810268\n",
        "6     [8, 4, 8]   0.823595  0.885804  0.682219  0.785523\n",
        "7       [10, 4]   0.868208  0.918503  0.728431  0.799691\n",
        "      Layers  train_auc  train_f1  test_auc   test_f1\n",
        "0     [4, 4]   0.888971  0.938774  0.751604  0.797189\n",
        "1    [10, 4]   0.916550  0.951344  0.756373  0.804032\n",
        "2     [9, 3]   0.885514  0.934539  0.765285  0.810014\n",
        "3  [9, 6, 3]   0.877695  0.941563  0.746390  0.811680\n",
        "4    [12, 3]   0.902860  0.949536  0.752273  0.798524\n",
        "'''"
      ],
      "execution_count": null,
      "outputs": [
        {
          "output_type": "stream",
          "text": [
            "      Layers  train_auc  train_f1  test_auc   test_f1\n",
            "0     [4, 4]   0.888971  0.938774  0.751604  0.797189\n",
            "1    [10, 4]   0.916550  0.951344  0.756373  0.804032\n",
            "2     [9, 3]   0.885514  0.934539  0.765285  0.810014\n",
            "3  [9, 6, 3]   0.877695  0.941563  0.746390  0.811680\n",
            "4    [12, 3]   0.902860  0.949536  0.752273  0.798524\n"
          ],
          "name": "stdout"
        },
        {
          "output_type": "execute_result",
          "data": {
            "application/vnd.google.colaboratory.intrinsic+json": {
              "type": "string"
            },
            "text/plain": [
              "'\\n100 epochs and 0.4 dropout \\n         Layers  train_auc  train_f1  test_auc   test_f1\\n0        [4, 4]   0.787342  0.896620  0.654679  0.796417\\n1        [8, 8]   0.878540  0.919917  0.748619  0.800893\\n2      [10, 10]   0.899645  0.933157  0.736898  0.786487\\n3      [12, 12]   0.913372  0.943850  0.742469  0.786332\\n4     [4, 4, 4]   0.730809  0.872506  0.627986  0.778127\\n5  [10, 10, 10]   0.900927  0.928287  0.753298  0.810268\\n6     [8, 4, 8]   0.823595  0.885804  0.682219  0.785523\\n7       [10, 4]   0.868208  0.918503  0.728431  0.799691\\n'"
            ]
          },
          "metadata": {
            "tags": []
          },
          "execution_count": 44
        }
      ]
    },
    {
      "cell_type": "code",
      "metadata": {
        "colab": {
          "base_uri": "https://localhost:8080/",
          "height": 279
        },
        "id": "C9sVVsJUEVsY",
        "outputId": "967b546a-6726-49b6-9f0a-333247d6e2ea"
      },
      "source": [
        "import matplotlib.pyplot as plt\n",
        "import seaborn as sns\n",
        "plt.plot(range(epochs), aggregated_losses)\n",
        "plt.plot(range(epochs), loss_val)\n",
        "plt.ylabel('Loss')\n",
        "plt.xlabel('epoch');\n",
        "\n",
        "\n"
      ],
      "execution_count": null,
      "outputs": [
        {
          "output_type": "display_data",
          "data": {
            "image/png": "[encoded data removed]",
            "text/plain": [
              "<Figure size 432x288 with 1 Axes>"
            ]
          },
          "metadata": {
            "tags": [],
            "needs_background": "light"
          }
        }
      ]
    },
    {
      "cell_type": "code",
      "metadata": {
        "id": "m8Lq5dbGQEoa"
      },
      "source": [
        "# I CAN\"T MISSING CIO GRADE \n",
        "from sklearn.linear_model import LinearRegression\n",
        "filter = ['2_rs9941697', '5_rs1347147' ,'19_rs3212986', '9_rs7851395', '17_rs1051640', '6_rs451774', '1_rs1801133&COSM146404&COSM3927609']\n",
        "topclinical = ['AgeTreatmentInitiation (years)','CisplatinExactDuration (days)','Vincristine_Concomitant (1=yes,0=no)','HeadAndNeckRadiation (1=yes,0=no)']\n",
        "\n",
        "remove = []\n",
        "for i in range(len(data.x_snps_names)):\n",
        "    if data.x_snps_names[i] not in filter:\n",
        "        remove.append(i)\n",
        "\n",
        "for i in range(len(data.x_clinical_names)):\n",
        "  if data.x_clinical_names[i] not in clinical_filter:\n",
        "    remove_c.append(i)\n",
        "\n",
        "X = np.delete(data.x_snps, remove, axis=1)\n",
        "colX = np.delete(data.x_snps_names, remove, axis=0)\n",
        "\n",
        "Xc = np.delete(data.x_clinical,remove_c,axis = 1)\n",
        "colXc = np.delete(data.x_clinical_names,remove_c, axis = 0)\n",
        "\n",
        "y = data.y\n",
        "scaler = MinMaxScaler()\n",
        "Z = scaler.fit_transform(Xc)\n",
        "X = np.concatenate([Z, X], axis=1)\n",
        "\n",
        "y_train, y_test, X_train, X_test = train_test_split(y, X, test_size=0.3, random_state=1) #8\n",
        "model = LinearRegression().fit(X_train, y_train)    \n"
      ],
      "execution_count": null,
      "outputs": []
    }
  ]
}